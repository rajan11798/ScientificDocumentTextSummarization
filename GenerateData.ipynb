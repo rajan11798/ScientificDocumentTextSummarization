{
  "nbformat": 4,
  "nbformat_minor": 0,
  "metadata": {
    "colab": {
      "provenance": []
    },
    "kernelspec": {
      "name": "python3",
      "display_name": "Python 3"
    },
    "language_info": {
      "name": "python"
    },
    "widgets": {
      "application/vnd.jupyter.widget-state+json": {
        "6125b3885128410698f249142100e138": {
          "model_module": "@jupyter-widgets/controls",
          "model_name": "HBoxModel",
          "model_module_version": "1.5.0",
          "state": {
            "_dom_classes": [],
            "_model_module": "@jupyter-widgets/controls",
            "_model_module_version": "1.5.0",
            "_model_name": "HBoxModel",
            "_view_count": null,
            "_view_module": "@jupyter-widgets/controls",
            "_view_module_version": "1.5.0",
            "_view_name": "HBoxView",
            "box_style": "",
            "children": [
              "IPY_MODEL_2400d7674f4e47a58edcb7f6752d174b",
              "IPY_MODEL_483430c9ed92472fa67b0064f5898f3f",
              "IPY_MODEL_e0e01b0d7ba24b6d96a33a9086bf828c"
            ],
            "layout": "IPY_MODEL_8c9cb34e9a814f0ab71539ac97d31345"
          }
        },
        "2400d7674f4e47a58edcb7f6752d174b": {
          "model_module": "@jupyter-widgets/controls",
          "model_name": "HTMLModel",
          "model_module_version": "1.5.0",
          "state": {
            "_dom_classes": [],
            "_model_module": "@jupyter-widgets/controls",
            "_model_module_version": "1.5.0",
            "_model_name": "HTMLModel",
            "_view_count": null,
            "_view_module": "@jupyter-widgets/controls",
            "_view_module_version": "1.5.0",
            "_view_name": "HTMLView",
            "description": "",
            "description_tooltip": null,
            "layout": "IPY_MODEL_0f7f3fbda94d4b3e861723428b6179ba",
            "placeholder": "​",
            "style": "IPY_MODEL_1f79443f5f0c45a2bdd300c9798e7671",
            "value": "100%"
          }
        },
        "483430c9ed92472fa67b0064f5898f3f": {
          "model_module": "@jupyter-widgets/controls",
          "model_name": "FloatProgressModel",
          "model_module_version": "1.5.0",
          "state": {
            "_dom_classes": [],
            "_model_module": "@jupyter-widgets/controls",
            "_model_module_version": "1.5.0",
            "_model_name": "FloatProgressModel",
            "_view_count": null,
            "_view_module": "@jupyter-widgets/controls",
            "_view_module_version": "1.5.0",
            "_view_name": "ProgressView",
            "bar_style": "success",
            "description": "",
            "description_tooltip": null,
            "layout": "IPY_MODEL_3c96b3012e374b03a2787dd864f085a9",
            "max": 198,
            "min": 0,
            "orientation": "horizontal",
            "style": "IPY_MODEL_d2885eb28db1411aac5b8d0b86a8be16",
            "value": 198
          }
        },
        "e0e01b0d7ba24b6d96a33a9086bf828c": {
          "model_module": "@jupyter-widgets/controls",
          "model_name": "HTMLModel",
          "model_module_version": "1.5.0",
          "state": {
            "_dom_classes": [],
            "_model_module": "@jupyter-widgets/controls",
            "_model_module_version": "1.5.0",
            "_model_name": "HTMLModel",
            "_view_count": null,
            "_view_module": "@jupyter-widgets/controls",
            "_view_module_version": "1.5.0",
            "_view_name": "HTMLView",
            "description": "",
            "description_tooltip": null,
            "layout": "IPY_MODEL_416f140385af4a88ad2af3b6b887054a",
            "placeholder": "​",
            "style": "IPY_MODEL_705f3fcd9de7435cb09fcfcb7467ecb5",
            "value": " 198/198 [02:02&lt;00:00,  2.13it/s]"
          }
        },
        "8c9cb34e9a814f0ab71539ac97d31345": {
          "model_module": "@jupyter-widgets/base",
          "model_name": "LayoutModel",
          "model_module_version": "1.2.0",
          "state": {
            "_model_module": "@jupyter-widgets/base",
            "_model_module_version": "1.2.0",
            "_model_name": "LayoutModel",
            "_view_count": null,
            "_view_module": "@jupyter-widgets/base",
            "_view_module_version": "1.2.0",
            "_view_name": "LayoutView",
            "align_content": null,
            "align_items": null,
            "align_self": null,
            "border": null,
            "bottom": null,
            "display": null,
            "flex": null,
            "flex_flow": null,
            "grid_area": null,
            "grid_auto_columns": null,
            "grid_auto_flow": null,
            "grid_auto_rows": null,
            "grid_column": null,
            "grid_gap": null,
            "grid_row": null,
            "grid_template_areas": null,
            "grid_template_columns": null,
            "grid_template_rows": null,
            "height": null,
            "justify_content": null,
            "justify_items": null,
            "left": null,
            "margin": null,
            "max_height": null,
            "max_width": null,
            "min_height": null,
            "min_width": null,
            "object_fit": null,
            "object_position": null,
            "order": null,
            "overflow": null,
            "overflow_x": null,
            "overflow_y": null,
            "padding": null,
            "right": null,
            "top": null,
            "visibility": null,
            "width": null
          }
        },
        "0f7f3fbda94d4b3e861723428b6179ba": {
          "model_module": "@jupyter-widgets/base",
          "model_name": "LayoutModel",
          "model_module_version": "1.2.0",
          "state": {
            "_model_module": "@jupyter-widgets/base",
            "_model_module_version": "1.2.0",
            "_model_name": "LayoutModel",
            "_view_count": null,
            "_view_module": "@jupyter-widgets/base",
            "_view_module_version": "1.2.0",
            "_view_name": "LayoutView",
            "align_content": null,
            "align_items": null,
            "align_self": null,
            "border": null,
            "bottom": null,
            "display": null,
            "flex": null,
            "flex_flow": null,
            "grid_area": null,
            "grid_auto_columns": null,
            "grid_auto_flow": null,
            "grid_auto_rows": null,
            "grid_column": null,
            "grid_gap": null,
            "grid_row": null,
            "grid_template_areas": null,
            "grid_template_columns": null,
            "grid_template_rows": null,
            "height": null,
            "justify_content": null,
            "justify_items": null,
            "left": null,
            "margin": null,
            "max_height": null,
            "max_width": null,
            "min_height": null,
            "min_width": null,
            "object_fit": null,
            "object_position": null,
            "order": null,
            "overflow": null,
            "overflow_x": null,
            "overflow_y": null,
            "padding": null,
            "right": null,
            "top": null,
            "visibility": null,
            "width": null
          }
        },
        "1f79443f5f0c45a2bdd300c9798e7671": {
          "model_module": "@jupyter-widgets/controls",
          "model_name": "DescriptionStyleModel",
          "model_module_version": "1.5.0",
          "state": {
            "_model_module": "@jupyter-widgets/controls",
            "_model_module_version": "1.5.0",
            "_model_name": "DescriptionStyleModel",
            "_view_count": null,
            "_view_module": "@jupyter-widgets/base",
            "_view_module_version": "1.2.0",
            "_view_name": "StyleView",
            "description_width": ""
          }
        },
        "3c96b3012e374b03a2787dd864f085a9": {
          "model_module": "@jupyter-widgets/base",
          "model_name": "LayoutModel",
          "model_module_version": "1.2.0",
          "state": {
            "_model_module": "@jupyter-widgets/base",
            "_model_module_version": "1.2.0",
            "_model_name": "LayoutModel",
            "_view_count": null,
            "_view_module": "@jupyter-widgets/base",
            "_view_module_version": "1.2.0",
            "_view_name": "LayoutView",
            "align_content": null,
            "align_items": null,
            "align_self": null,
            "border": null,
            "bottom": null,
            "display": null,
            "flex": null,
            "flex_flow": null,
            "grid_area": null,
            "grid_auto_columns": null,
            "grid_auto_flow": null,
            "grid_auto_rows": null,
            "grid_column": null,
            "grid_gap": null,
            "grid_row": null,
            "grid_template_areas": null,
            "grid_template_columns": null,
            "grid_template_rows": null,
            "height": null,
            "justify_content": null,
            "justify_items": null,
            "left": null,
            "margin": null,
            "max_height": null,
            "max_width": null,
            "min_height": null,
            "min_width": null,
            "object_fit": null,
            "object_position": null,
            "order": null,
            "overflow": null,
            "overflow_x": null,
            "overflow_y": null,
            "padding": null,
            "right": null,
            "top": null,
            "visibility": null,
            "width": null
          }
        },
        "d2885eb28db1411aac5b8d0b86a8be16": {
          "model_module": "@jupyter-widgets/controls",
          "model_name": "ProgressStyleModel",
          "model_module_version": "1.5.0",
          "state": {
            "_model_module": "@jupyter-widgets/controls",
            "_model_module_version": "1.5.0",
            "_model_name": "ProgressStyleModel",
            "_view_count": null,
            "_view_module": "@jupyter-widgets/base",
            "_view_module_version": "1.2.0",
            "_view_name": "StyleView",
            "bar_color": null,
            "description_width": ""
          }
        },
        "416f140385af4a88ad2af3b6b887054a": {
          "model_module": "@jupyter-widgets/base",
          "model_name": "LayoutModel",
          "model_module_version": "1.2.0",
          "state": {
            "_model_module": "@jupyter-widgets/base",
            "_model_module_version": "1.2.0",
            "_model_name": "LayoutModel",
            "_view_count": null,
            "_view_module": "@jupyter-widgets/base",
            "_view_module_version": "1.2.0",
            "_view_name": "LayoutView",
            "align_content": null,
            "align_items": null,
            "align_self": null,
            "border": null,
            "bottom": null,
            "display": null,
            "flex": null,
            "flex_flow": null,
            "grid_area": null,
            "grid_auto_columns": null,
            "grid_auto_flow": null,
            "grid_auto_rows": null,
            "grid_column": null,
            "grid_gap": null,
            "grid_row": null,
            "grid_template_areas": null,
            "grid_template_columns": null,
            "grid_template_rows": null,
            "height": null,
            "justify_content": null,
            "justify_items": null,
            "left": null,
            "margin": null,
            "max_height": null,
            "max_width": null,
            "min_height": null,
            "min_width": null,
            "object_fit": null,
            "object_position": null,
            "order": null,
            "overflow": null,
            "overflow_x": null,
            "overflow_y": null,
            "padding": null,
            "right": null,
            "top": null,
            "visibility": null,
            "width": null
          }
        },
        "705f3fcd9de7435cb09fcfcb7467ecb5": {
          "model_module": "@jupyter-widgets/controls",
          "model_name": "DescriptionStyleModel",
          "model_module_version": "1.5.0",
          "state": {
            "_model_module": "@jupyter-widgets/controls",
            "_model_module_version": "1.5.0",
            "_model_name": "DescriptionStyleModel",
            "_view_count": null,
            "_view_module": "@jupyter-widgets/base",
            "_view_module_version": "1.2.0",
            "_view_name": "StyleView",
            "description_width": ""
          }
        },
        "86b5b33149554db9bb204a5d5cb43494": {
          "model_module": "@jupyter-widgets/controls",
          "model_name": "HBoxModel",
          "model_module_version": "1.5.0",
          "state": {
            "_dom_classes": [],
            "_model_module": "@jupyter-widgets/controls",
            "_model_module_version": "1.5.0",
            "_model_name": "HBoxModel",
            "_view_count": null,
            "_view_module": "@jupyter-widgets/controls",
            "_view_module_version": "1.5.0",
            "_view_name": "HBoxView",
            "box_style": "",
            "children": [
              "IPY_MODEL_3a3410437647487a88468f5d3e0714d9",
              "IPY_MODEL_b47e0b74dc664defa2b8d03247d10c7d",
              "IPY_MODEL_71684933cae0445bb6a41c253579a486"
            ],
            "layout": "IPY_MODEL_2e80359e8b0a446c8b9248d39fa66611"
          }
        },
        "3a3410437647487a88468f5d3e0714d9": {
          "model_module": "@jupyter-widgets/controls",
          "model_name": "HTMLModel",
          "model_module_version": "1.5.0",
          "state": {
            "_dom_classes": [],
            "_model_module": "@jupyter-widgets/controls",
            "_model_module_version": "1.5.0",
            "_model_name": "HTMLModel",
            "_view_count": null,
            "_view_module": "@jupyter-widgets/controls",
            "_view_module_version": "1.5.0",
            "_view_name": "HTMLView",
            "description": "",
            "description_tooltip": null,
            "layout": "IPY_MODEL_660bede7cb874ffe89a7eef3293970f1",
            "placeholder": "​",
            "style": "IPY_MODEL_e01a9eee70cf44bf9d45619e77516a36",
            "value": "100%"
          }
        },
        "b47e0b74dc664defa2b8d03247d10c7d": {
          "model_module": "@jupyter-widgets/controls",
          "model_name": "FloatProgressModel",
          "model_module_version": "1.5.0",
          "state": {
            "_dom_classes": [],
            "_model_module": "@jupyter-widgets/controls",
            "_model_module_version": "1.5.0",
            "_model_name": "FloatProgressModel",
            "_view_count": null,
            "_view_module": "@jupyter-widgets/controls",
            "_view_module_version": "1.5.0",
            "_view_name": "ProgressView",
            "bar_style": "success",
            "description": "",
            "description_tooltip": null,
            "layout": "IPY_MODEL_84ba3b1f9e2d457c9b92b97b5cdeab58",
            "max": 790,
            "min": 0,
            "orientation": "horizontal",
            "style": "IPY_MODEL_6d91c5c823cb4555aa97d124ba567771",
            "value": 790
          }
        },
        "71684933cae0445bb6a41c253579a486": {
          "model_module": "@jupyter-widgets/controls",
          "model_name": "HTMLModel",
          "model_module_version": "1.5.0",
          "state": {
            "_dom_classes": [],
            "_model_module": "@jupyter-widgets/controls",
            "_model_module_version": "1.5.0",
            "_model_name": "HTMLModel",
            "_view_count": null,
            "_view_module": "@jupyter-widgets/controls",
            "_view_module_version": "1.5.0",
            "_view_name": "HTMLView",
            "description": "",
            "description_tooltip": null,
            "layout": "IPY_MODEL_4c2a0f0123444ae4ab4946f5dd7c7c52",
            "placeholder": "​",
            "style": "IPY_MODEL_d725ef010e53444880f2d370021da074",
            "value": " 790/790 [07:35&lt;00:00,  1.37it/s]"
          }
        },
        "2e80359e8b0a446c8b9248d39fa66611": {
          "model_module": "@jupyter-widgets/base",
          "model_name": "LayoutModel",
          "model_module_version": "1.2.0",
          "state": {
            "_model_module": "@jupyter-widgets/base",
            "_model_module_version": "1.2.0",
            "_model_name": "LayoutModel",
            "_view_count": null,
            "_view_module": "@jupyter-widgets/base",
            "_view_module_version": "1.2.0",
            "_view_name": "LayoutView",
            "align_content": null,
            "align_items": null,
            "align_self": null,
            "border": null,
            "bottom": null,
            "display": null,
            "flex": null,
            "flex_flow": null,
            "grid_area": null,
            "grid_auto_columns": null,
            "grid_auto_flow": null,
            "grid_auto_rows": null,
            "grid_column": null,
            "grid_gap": null,
            "grid_row": null,
            "grid_template_areas": null,
            "grid_template_columns": null,
            "grid_template_rows": null,
            "height": null,
            "justify_content": null,
            "justify_items": null,
            "left": null,
            "margin": null,
            "max_height": null,
            "max_width": null,
            "min_height": null,
            "min_width": null,
            "object_fit": null,
            "object_position": null,
            "order": null,
            "overflow": null,
            "overflow_x": null,
            "overflow_y": null,
            "padding": null,
            "right": null,
            "top": null,
            "visibility": null,
            "width": null
          }
        },
        "660bede7cb874ffe89a7eef3293970f1": {
          "model_module": "@jupyter-widgets/base",
          "model_name": "LayoutModel",
          "model_module_version": "1.2.0",
          "state": {
            "_model_module": "@jupyter-widgets/base",
            "_model_module_version": "1.2.0",
            "_model_name": "LayoutModel",
            "_view_count": null,
            "_view_module": "@jupyter-widgets/base",
            "_view_module_version": "1.2.0",
            "_view_name": "LayoutView",
            "align_content": null,
            "align_items": null,
            "align_self": null,
            "border": null,
            "bottom": null,
            "display": null,
            "flex": null,
            "flex_flow": null,
            "grid_area": null,
            "grid_auto_columns": null,
            "grid_auto_flow": null,
            "grid_auto_rows": null,
            "grid_column": null,
            "grid_gap": null,
            "grid_row": null,
            "grid_template_areas": null,
            "grid_template_columns": null,
            "grid_template_rows": null,
            "height": null,
            "justify_content": null,
            "justify_items": null,
            "left": null,
            "margin": null,
            "max_height": null,
            "max_width": null,
            "min_height": null,
            "min_width": null,
            "object_fit": null,
            "object_position": null,
            "order": null,
            "overflow": null,
            "overflow_x": null,
            "overflow_y": null,
            "padding": null,
            "right": null,
            "top": null,
            "visibility": null,
            "width": null
          }
        },
        "e01a9eee70cf44bf9d45619e77516a36": {
          "model_module": "@jupyter-widgets/controls",
          "model_name": "DescriptionStyleModel",
          "model_module_version": "1.5.0",
          "state": {
            "_model_module": "@jupyter-widgets/controls",
            "_model_module_version": "1.5.0",
            "_model_name": "DescriptionStyleModel",
            "_view_count": null,
            "_view_module": "@jupyter-widgets/base",
            "_view_module_version": "1.2.0",
            "_view_name": "StyleView",
            "description_width": ""
          }
        },
        "84ba3b1f9e2d457c9b92b97b5cdeab58": {
          "model_module": "@jupyter-widgets/base",
          "model_name": "LayoutModel",
          "model_module_version": "1.2.0",
          "state": {
            "_model_module": "@jupyter-widgets/base",
            "_model_module_version": "1.2.0",
            "_model_name": "LayoutModel",
            "_view_count": null,
            "_view_module": "@jupyter-widgets/base",
            "_view_module_version": "1.2.0",
            "_view_name": "LayoutView",
            "align_content": null,
            "align_items": null,
            "align_self": null,
            "border": null,
            "bottom": null,
            "display": null,
            "flex": null,
            "flex_flow": null,
            "grid_area": null,
            "grid_auto_columns": null,
            "grid_auto_flow": null,
            "grid_auto_rows": null,
            "grid_column": null,
            "grid_gap": null,
            "grid_row": null,
            "grid_template_areas": null,
            "grid_template_columns": null,
            "grid_template_rows": null,
            "height": null,
            "justify_content": null,
            "justify_items": null,
            "left": null,
            "margin": null,
            "max_height": null,
            "max_width": null,
            "min_height": null,
            "min_width": null,
            "object_fit": null,
            "object_position": null,
            "order": null,
            "overflow": null,
            "overflow_x": null,
            "overflow_y": null,
            "padding": null,
            "right": null,
            "top": null,
            "visibility": null,
            "width": null
          }
        },
        "6d91c5c823cb4555aa97d124ba567771": {
          "model_module": "@jupyter-widgets/controls",
          "model_name": "ProgressStyleModel",
          "model_module_version": "1.5.0",
          "state": {
            "_model_module": "@jupyter-widgets/controls",
            "_model_module_version": "1.5.0",
            "_model_name": "ProgressStyleModel",
            "_view_count": null,
            "_view_module": "@jupyter-widgets/base",
            "_view_module_version": "1.2.0",
            "_view_name": "StyleView",
            "bar_color": null,
            "description_width": ""
          }
        },
        "4c2a0f0123444ae4ab4946f5dd7c7c52": {
          "model_module": "@jupyter-widgets/base",
          "model_name": "LayoutModel",
          "model_module_version": "1.2.0",
          "state": {
            "_model_module": "@jupyter-widgets/base",
            "_model_module_version": "1.2.0",
            "_model_name": "LayoutModel",
            "_view_count": null,
            "_view_module": "@jupyter-widgets/base",
            "_view_module_version": "1.2.0",
            "_view_name": "LayoutView",
            "align_content": null,
            "align_items": null,
            "align_self": null,
            "border": null,
            "bottom": null,
            "display": null,
            "flex": null,
            "flex_flow": null,
            "grid_area": null,
            "grid_auto_columns": null,
            "grid_auto_flow": null,
            "grid_auto_rows": null,
            "grid_column": null,
            "grid_gap": null,
            "grid_row": null,
            "grid_template_areas": null,
            "grid_template_columns": null,
            "grid_template_rows": null,
            "height": null,
            "justify_content": null,
            "justify_items": null,
            "left": null,
            "margin": null,
            "max_height": null,
            "max_width": null,
            "min_height": null,
            "min_width": null,
            "object_fit": null,
            "object_position": null,
            "order": null,
            "overflow": null,
            "overflow_x": null,
            "overflow_y": null,
            "padding": null,
            "right": null,
            "top": null,
            "visibility": null,
            "width": null
          }
        },
        "d725ef010e53444880f2d370021da074": {
          "model_module": "@jupyter-widgets/controls",
          "model_name": "DescriptionStyleModel",
          "model_module_version": "1.5.0",
          "state": {
            "_model_module": "@jupyter-widgets/controls",
            "_model_module_version": "1.5.0",
            "_model_name": "DescriptionStyleModel",
            "_view_count": null,
            "_view_module": "@jupyter-widgets/base",
            "_view_module_version": "1.2.0",
            "_view_name": "StyleView",
            "description_width": ""
          }
        }
      }
    }
  },
  "cells": [
    {
      "cell_type": "markdown",
      "source": [
        "Evaluation Matrix for Text data."
      ],
      "metadata": {
        "id": "8LjwlSDVvjME"
      }
    },
    {
      "cell_type": "code",
      "execution_count": null,
      "metadata": {
        "colab": {
          "base_uri": "https://localhost:8080/"
        },
        "id": "-It3fxp4j1Mp",
        "outputId": "d282060d-1655-44d9-faf3-8e5199876c94"
      },
      "outputs": [
        {
          "output_type": "stream",
          "name": "stdout",
          "text": [
            "\u001b[2K     \u001b[90m━━━━━━━━━━━━━━━━━━━━━━━━━━━━━━━━━━━━━━━━\u001b[0m \u001b[32m5.8/5.8 MB\u001b[0m \u001b[31m46.6 MB/s\u001b[0m eta \u001b[36m0:00:00\u001b[0m\n",
            "\u001b[2K     \u001b[90m━━━━━━━━━━━━━━━━━━━━━━━━━━━━━━━━━━━━━━\u001b[0m \u001b[32m452.9/452.9 KB\u001b[0m \u001b[31m35.2 MB/s\u001b[0m eta \u001b[36m0:00:00\u001b[0m\n",
            "\u001b[?25h  Preparing metadata (setup.py) ... \u001b[?25l\u001b[?25hdone\n",
            "\u001b[2K     \u001b[90m━━━━━━━━━━━━━━━━━━━━━━━━━━━━━━━━━━━━━━━━\u001b[0m \u001b[32m7.6/7.6 MB\u001b[0m \u001b[31m81.3 MB/s\u001b[0m eta \u001b[36m0:00:00\u001b[0m\n",
            "\u001b[2K     \u001b[90m━━━━━━━━━━━━━━━━━━━━━━━━━━━━━━━━━━━━━━\u001b[0m \u001b[32m182.4/182.4 KB\u001b[0m \u001b[31m19.7 MB/s\u001b[0m eta \u001b[36m0:00:00\u001b[0m\n",
            "\u001b[2K     \u001b[90m━━━━━━━━━━━━━━━━━━━━━━━━━━━━━━━━━━━━━━\u001b[0m \u001b[32m132.0/132.0 KB\u001b[0m \u001b[31m15.9 MB/s\u001b[0m eta \u001b[36m0:00:00\u001b[0m\n",
            "\u001b[2K     \u001b[90m━━━━━━━━━━━━━━━━━━━━━━━━━━━━━━━━━━━━━━\u001b[0m \u001b[32m213.0/213.0 KB\u001b[0m \u001b[31m19.6 MB/s\u001b[0m eta \u001b[36m0:00:00\u001b[0m\n",
            "\u001b[2K     \u001b[90m━━━━━━━━━━━━━━━━━━━━━━━━━━━━━━━━━━━━━━\u001b[0m \u001b[32m140.6/140.6 KB\u001b[0m \u001b[31m15.9 MB/s\u001b[0m eta \u001b[36m0:00:00\u001b[0m\n",
            "\u001b[?25h  Building wheel for rouge-score (setup.py) ... \u001b[?25l\u001b[?25hdone\n"
          ]
        }
      ],
      "source": [
        "!pip install -q transformers datasets rouge-score"
      ]
    },
    {
      "cell_type": "code",
      "source": [
        "#install spacy large language model. (Colab needs to be restarted/)\n",
        "!python -m spacy download en_core_web_lg\n",
        "     "
      ],
      "metadata": {
        "colab": {
          "base_uri": "https://localhost:8080/"
        },
        "id": "fYesymiimBYc",
        "outputId": "98c50a0a-b785-40c7-dc1d-70cbcb3da8c0"
      },
      "execution_count": null,
      "outputs": [
        {
          "output_type": "stream",
          "name": "stdout",
          "text": [
            "/usr/local/lib/python3.8/dist-packages/torch/cuda/__init__.py:497: UserWarning: Can't initialize NVML\n",
            "  warnings.warn(\"Can't initialize NVML\")\n",
            "2023-01-11 04:37:01.650004: E tensorflow/stream_executor/cuda/cuda_driver.cc:271] failed call to cuInit: CUDA_ERROR_NO_DEVICE: no CUDA-capable device is detected\n",
            "Looking in indexes: https://pypi.org/simple, https://us-python.pkg.dev/colab-wheels/public/simple/\n",
            "Collecting en-core-web-lg==3.4.1\n",
            "  Downloading https://github.com/explosion/spacy-models/releases/download/en_core_web_lg-3.4.1/en_core_web_lg-3.4.1-py3-none-any.whl (587.7 MB)\n",
            "\u001b[2K     \u001b[90m━━━━━━━━━━━━━━━━━━━━━━━━━━━━━━━━━━━━━━━\u001b[0m \u001b[32m587.7/587.7 MB\u001b[0m \u001b[31m2.4 MB/s\u001b[0m eta \u001b[36m0:00:00\u001b[0m\n",
            "\u001b[?25hRequirement already satisfied: spacy<3.5.0,>=3.4.0 in /usr/local/lib/python3.8/dist-packages (from en-core-web-lg==3.4.1) (3.4.4)\n",
            "Requirement already satisfied: srsly<3.0.0,>=2.4.3 in /usr/local/lib/python3.8/dist-packages (from spacy<3.5.0,>=3.4.0->en-core-web-lg==3.4.1) (2.4.5)\n",
            "Requirement already satisfied: wasabi<1.1.0,>=0.9.1 in /usr/local/lib/python3.8/dist-packages (from spacy<3.5.0,>=3.4.0->en-core-web-lg==3.4.1) (0.10.1)\n",
            "Requirement already satisfied: spacy-legacy<3.1.0,>=3.0.10 in /usr/local/lib/python3.8/dist-packages (from spacy<3.5.0,>=3.4.0->en-core-web-lg==3.4.1) (3.0.11)\n",
            "Requirement already satisfied: spacy-loggers<2.0.0,>=1.0.0 in /usr/local/lib/python3.8/dist-packages (from spacy<3.5.0,>=3.4.0->en-core-web-lg==3.4.1) (1.0.4)\n",
            "Requirement already satisfied: numpy>=1.15.0 in /usr/local/lib/python3.8/dist-packages (from spacy<3.5.0,>=3.4.0->en-core-web-lg==3.4.1) (1.21.6)\n",
            "Requirement already satisfied: typer<0.8.0,>=0.3.0 in /usr/local/lib/python3.8/dist-packages (from spacy<3.5.0,>=3.4.0->en-core-web-lg==3.4.1) (0.7.0)\n",
            "Requirement already satisfied: pathy>=0.3.5 in /usr/local/lib/python3.8/dist-packages (from spacy<3.5.0,>=3.4.0->en-core-web-lg==3.4.1) (0.10.1)\n",
            "Requirement already satisfied: setuptools in /usr/local/lib/python3.8/dist-packages (from spacy<3.5.0,>=3.4.0->en-core-web-lg==3.4.1) (57.4.0)\n",
            "Requirement already satisfied: tqdm<5.0.0,>=4.38.0 in /usr/local/lib/python3.8/dist-packages (from spacy<3.5.0,>=3.4.0->en-core-web-lg==3.4.1) (4.64.1)\n",
            "Requirement already satisfied: packaging>=20.0 in /usr/local/lib/python3.8/dist-packages (from spacy<3.5.0,>=3.4.0->en-core-web-lg==3.4.1) (21.3)\n",
            "Requirement already satisfied: catalogue<2.1.0,>=2.0.6 in /usr/local/lib/python3.8/dist-packages (from spacy<3.5.0,>=3.4.0->en-core-web-lg==3.4.1) (2.0.8)\n",
            "Requirement already satisfied: preshed<3.1.0,>=3.0.2 in /usr/local/lib/python3.8/dist-packages (from spacy<3.5.0,>=3.4.0->en-core-web-lg==3.4.1) (3.0.8)\n",
            "Requirement already satisfied: thinc<8.2.0,>=8.1.0 in /usr/local/lib/python3.8/dist-packages (from spacy<3.5.0,>=3.4.0->en-core-web-lg==3.4.1) (8.1.6)\n",
            "Requirement already satisfied: pydantic!=1.8,!=1.8.1,<1.11.0,>=1.7.4 in /usr/local/lib/python3.8/dist-packages (from spacy<3.5.0,>=3.4.0->en-core-web-lg==3.4.1) (1.10.4)\n",
            "Requirement already satisfied: langcodes<4.0.0,>=3.2.0 in /usr/local/lib/python3.8/dist-packages (from spacy<3.5.0,>=3.4.0->en-core-web-lg==3.4.1) (3.3.0)\n",
            "Requirement already satisfied: cymem<2.1.0,>=2.0.2 in /usr/local/lib/python3.8/dist-packages (from spacy<3.5.0,>=3.4.0->en-core-web-lg==3.4.1) (2.0.7)\n",
            "Requirement already satisfied: requests<3.0.0,>=2.13.0 in /usr/local/lib/python3.8/dist-packages (from spacy<3.5.0,>=3.4.0->en-core-web-lg==3.4.1) (2.25.1)\n",
            "Requirement already satisfied: murmurhash<1.1.0,>=0.28.0 in /usr/local/lib/python3.8/dist-packages (from spacy<3.5.0,>=3.4.0->en-core-web-lg==3.4.1) (1.0.9)\n",
            "Requirement already satisfied: jinja2 in /usr/local/lib/python3.8/dist-packages (from spacy<3.5.0,>=3.4.0->en-core-web-lg==3.4.1) (2.11.3)\n",
            "Requirement already satisfied: smart-open<7.0.0,>=5.2.1 in /usr/local/lib/python3.8/dist-packages (from spacy<3.5.0,>=3.4.0->en-core-web-lg==3.4.1) (6.3.0)\n",
            "Requirement already satisfied: pyparsing!=3.0.5,>=2.0.2 in /usr/local/lib/python3.8/dist-packages (from packaging>=20.0->spacy<3.5.0,>=3.4.0->en-core-web-lg==3.4.1) (3.0.9)\n",
            "Requirement already satisfied: typing-extensions>=4.2.0 in /usr/local/lib/python3.8/dist-packages (from pydantic!=1.8,!=1.8.1,<1.11.0,>=1.7.4->spacy<3.5.0,>=3.4.0->en-core-web-lg==3.4.1) (4.4.0)\n",
            "Requirement already satisfied: urllib3<1.27,>=1.21.1 in /usr/local/lib/python3.8/dist-packages (from requests<3.0.0,>=2.13.0->spacy<3.5.0,>=3.4.0->en-core-web-lg==3.4.1) (1.26.13)\n",
            "Requirement already satisfied: idna<3,>=2.5 in /usr/local/lib/python3.8/dist-packages (from requests<3.0.0,>=2.13.0->spacy<3.5.0,>=3.4.0->en-core-web-lg==3.4.1) (2.10)\n",
            "Requirement already satisfied: certifi>=2017.4.17 in /usr/local/lib/python3.8/dist-packages (from requests<3.0.0,>=2.13.0->spacy<3.5.0,>=3.4.0->en-core-web-lg==3.4.1) (2022.12.7)\n",
            "Requirement already satisfied: chardet<5,>=3.0.2 in /usr/local/lib/python3.8/dist-packages (from requests<3.0.0,>=2.13.0->spacy<3.5.0,>=3.4.0->en-core-web-lg==3.4.1) (4.0.0)\n",
            "Requirement already satisfied: confection<1.0.0,>=0.0.1 in /usr/local/lib/python3.8/dist-packages (from thinc<8.2.0,>=8.1.0->spacy<3.5.0,>=3.4.0->en-core-web-lg==3.4.1) (0.0.3)\n",
            "Requirement already satisfied: blis<0.8.0,>=0.7.8 in /usr/local/lib/python3.8/dist-packages (from thinc<8.2.0,>=8.1.0->spacy<3.5.0,>=3.4.0->en-core-web-lg==3.4.1) (0.7.9)\n",
            "Requirement already satisfied: click<9.0.0,>=7.1.1 in /usr/local/lib/python3.8/dist-packages (from typer<0.8.0,>=0.3.0->spacy<3.5.0,>=3.4.0->en-core-web-lg==3.4.1) (7.1.2)\n",
            "Requirement already satisfied: MarkupSafe>=0.23 in /usr/local/lib/python3.8/dist-packages (from jinja2->spacy<3.5.0,>=3.4.0->en-core-web-lg==3.4.1) (2.0.1)\n",
            "Installing collected packages: en-core-web-lg\n",
            "Successfully installed en-core-web-lg-3.4.1\n",
            "\u001b[38;5;2m✔ Download and installation successful\u001b[0m\n",
            "You can now load the package via spacy.load('en_core_web_lg')\n"
          ]
        }
      ]
    },
    {
      "cell_type": "markdown",
      "source": [
        "Importing  all the required libraries."
      ],
      "metadata": {
        "id": "VpZz6tObvxtT"
      }
    },
    {
      "cell_type": "code",
      "source": [
        "import tensorflow_datasets as tfds \n",
        "import matplotlib.pyplot as plt\n",
        "import pandas as pd\n",
        "import numpy as np\n",
        "import spacy\n",
        "from tqdm.notebook import tqdm\n",
        "  \n",
        "import tensorflow_hub as hub\n",
        "from tensorflow import keras \n",
        "import tensorflow as tf\n",
        "from IPython.display import Image \n",
        "import matplotlib.pyplot as plt\n",
        "import os\n",
        "import glob\n",
        "\n",
        "from sklearn.model_selection import train_test_split\n",
        "\n",
        "\n",
        "nlp = spacy.load('en_core_web_lg')"
      ],
      "metadata": {
        "id": "rR7Sh6TomBaA",
        "colab": {
          "base_uri": "https://localhost:8080/"
        },
        "outputId": "298efa95-b978-49c9-9f20-b80a4c3d52b3"
      },
      "execution_count": null,
      "outputs": [
        {
          "output_type": "stream",
          "name": "stderr",
          "text": [
            "/usr/local/lib/python3.8/dist-packages/torch/cuda/__init__.py:497: UserWarning: Can't initialize NVML\n",
            "  warnings.warn(\"Can't initialize NVML\")\n"
          ]
        }
      ]
    },
    {
      "cell_type": "markdown",
      "source": [
        "Reading the dataset in text format."
      ],
      "metadata": {
        "id": "EENS9RSRv3YD"
      }
    },
    {
      "cell_type": "code",
      "source": [
        "# Scisumm_ds = tfds.as_numpy(tfds.load(\n",
        "#     'cnn_dailymail',\n",
        "#     split='test',\n",
        "#     batch_size=-1\n",
        "# )) \n",
        "\n",
        "file1 = open(\"/content/drive/MyDrive/M_Tech_Project/Whole_text_data/A00-1031.txt\",\"r\")\n",
        "print(file1.read())\n",
        "print(type(file1.read()))\n",
        "file1.close()"
      ],
      "metadata": {
        "colab": {
          "base_uri": "https://localhost:8080/"
        },
        "id": "Rnr503QZmBdU",
        "outputId": "5e061c1e-e8ab-4c00-953e-f652a02b9734"
      },
      "execution_count": null,
      "outputs": [
        {
          "output_type": "stream",
          "name": "stdout",
          "text": [
            "\n",
            "  TnT - A Statistical Part-Of-Speech Tagger\n",
            "    Trigrams'n'Tags (TnT) is an efficient statistical part-of-speech tagger.Contrary to claims found elsewhere in the literature, we argue that a tagger based on Markov models performs at least as well as other current approaches, including the Maximum Entropy framework.A recent comparison has even shown that TnT performs significantly better for the tested corpora.We describe the basic model of TnT, the techniques used for smoothing and for handling unknown words.Furthermore, we present evaluations on two corpora.\n",
            "    A large number of current language processing systems use a part-of-speech tagger for pre-processing.The tagger assigns a (unique or ambiguous) part-ofspeech tag to each token in the input and passes its output to the next processing level, usually a parser.Furthermore, there is a large interest in part-ofspeech tagging for corpus annotation projects, who create valuable linguistic resources by a combination of automatic processing and human correction.For both applications, a tagger with the highest possible accuracy is required.The debate about which paradigm solves the part-of-speech tagging problem best is not finished.Recent comparisons of approaches that can be trained on corpora (van Halteren et al., 1998; Volk and Schneider, 1998) have shown that in most cases statistical aproaches (Cutting et al., 1992; Schmid, 1995; Ratnaparkhi, 1996) yield better results than finite-state, rule-based, or memory-based taggers (Brill, 1993; Daelemans et al., 1996).They are only surpassed by combinations of different systems, forming a &quot;voting tagger&quot;.Among the statistical approaches, the Maximum Entropy framework has a very strong position.Nevertheless, a recent independent comparison of 7 taggers (Zavrel and Daelemans, 1999) has shown that another approach even works better: Markov models combined with a good smoothing technique and with handling of unknown words.This tagger, TnT, not only yielded the highest accuracy, it also was the fastest both in training and tagging.The tagger comparison was organized as a &quot;blackbox test&quot;: set the same task to every tagger and compare the outcomes.This paper describes the models and techniques used by TnT together with the implementation.The reader will be surprised how simple the underlying model is.The result of the tagger comparison seems to support the maxime &quot;the simplest is the best&quot;.However, in this paper we clarify a number of details that are omitted in major previous publications concerning tagging with Markov models.As two examples, (Rabiner, 1989) and (Charniak et al., 1993) give good overviews of the techniques and equations used for Markov models and part-ofspeech tagging, but they are not very explicit in the details that are needed for their application.We argue that it is not only the choice of the general model that determines the result of the tagger but also the various &quot;small&quot; decisions on alternatives.The aim of this paper is to give a detailed account of the techniques used in TnT.Additionally, we present results of the tagger on the NEGRA corpus (Brants et al., 1999) and the Penn Treebank (Marcus et al., 1993).The Penn Treebank results reported here for the Markov model approach are at least equivalent to those reported for the Maximum Entropy approach in (Ratnaparkhi, 1996).For a comparison to other taggers, the reader is referred to (Zavrel and Daelemans, 1999).\n",
            "    TnT uses second order Markov models for part-ofspeech tagging.The states of the model represent tags, outputs represent the words.Transition probabilities depend on the states, thus pairs of tags.Output probabilities only depend on the most recent category.To be explicit, we calculate for a given sequence of words w1 of length T. t1 tr are elements of the tagset, the additional tags t_1, to, and t7-,±1 are beginning-of-sequence and end-of-sequence markers.Using these additional tags, even if they stem from rudimentary processing of punctuation marks, slightly improves tagging results.This is different from formulas presented in other publications, which just stop with a &quot;loose end&quot; at the last word.If sentence boundaries are not marked in the input, TnT adds these tags if it encounters one of [.!?;] as a token.Transition and output probabilities are estimated from a tagged corpus.As a first step, we use the maximum likelihood probabilities P which are derived from the relative frequencies: for all t1, t2, t3 in the tagset and w3 in the lexicon.N is the total number of tokens in the training corpus.We define a maximum likelihood probability to be zero if the corresponding nominators and denominators are zero.As a second step, contextual frequencies are smoothed and lexical frequences are completed by handling words that are not in the lexicon (see below).Trigram probabilities generated from a corpus usually cannot directly be used because of the sparsedata problem.This means that there are not enough instances for each trigram to reliably estimate the probability.Furthermore, setting a probability to zero because the corresponding trigram never occured in the corpus has an undesired effect.It causes the probability of a complete sequence to be set to zero if its use is necessary for a new text sequence, thus makes it impossible to rank different sequences containing a zero probability.The smoothing paradigm that delivers the best results in TnT is linear interpolation of unigrams, bigrams, and trigrams.Therefore, we estimate a trigram probability as follows: P are maximum likelihood estimates of the probabilities, and A1 + A2 ± A3 = 1, SO P again represent probability distributions.We use the context-independent variant of linear interpolation, i.e., the values of the As do not depend on the particular trigram.Contrary to intuition, this yields better results than the context-dependent variant.Due to sparse-data problems, one cannot estimate a different set of As for each trigram.Therefore, it is common practice to group trigrams by frequency and estimate tied sets of As.However, we are not aware of any publication that has investigated frequency groupings for linear interpolation in part-of-speech tagging.All groupings that we have tested yielded at most equivalent results to contextindependent linear interpolation.Some groupings even yielded worse results.The tested groupings included a) one set of As for each frequency value and b) two classes (low and high frequency) on the two ends of the scale, as well as several groupings in between and several settings for partitioning the classes.The values of A1, A2, and A3 are estimated by deleted interpolation.This technique successively removes each trigram from the training corpus and estimates best values for the As from all other ngrams in the corpus.Given the frequency counts for uni-, bi-, and trigrams, the weights can be very efficiently determined with a processing time linear in the number of different trigrams.The algorithm is given in figure 1.Note that subtracting 1 means taking unseen data into account.Without this subtraction the model would overfit the training data and would generally yield worse results.Currently, the method of handling unknown words that seems to work best for inflected languages is a suffix analysis as proposed in (Samuelsson, 1993).Tag probabilities are set according to the word's ending.The suffix is a strong predictor for word classes, e.g., words in the Wall Street Journal part of the Penn Treebank ending in able are adjectives (.11) in 98% of the cases (e.g. fashionable, variable) , the rest of 2% are nouns (e.g. cable, variable).The probability distribution for a particular suffix is generated from all words in the training set that share the same suffix of some predefined maximum length.The term suffix as used here means &quot;final sequence of characters of a word&quot; which is not necessarily a linguistically meaningful suffix.Probabilities are smoothed by successive abstraction.This calculates the probability of a tag t given the last m letters i of an n letter word: P(t1/7„,+1,,..ln).The sequence of increasingly more general contexts omits more and more characters of the suffix, such that P(tlin-m+2, • • • P(tlin_m+3, ,i), , P(t) are used for smoothing.The recursion formula is set A = A2 = A3 = 0 foreach trigram t1,t2,t3 with f (ti,t2,t3) >0 depending on the maximum of the following three values: for i = m ... 0, using the maximum likelihood estimates P from frequencies in the lexicon, weights Oi and the initialization For the Markov model, we need the inverse conditional probabilities P(1,2_1+1, ... /Tilt) which are obtained by Bayesian inversion.A theoretical motivated argumentation uses the standard deviation of the maximum likelihood probabilities for the weights 0, (Samuelsson, 1993).This leaves room for interpretation.We use the longest suffix that we can find in the training set (i.e., for which the frequency is greater than or equal to 1), but at most 10 characters.This is an empirically determined choice.2) We use a context-independent approach for 0„ as we did for the contextual weights A.It turned out to be a good choice to set all 0, to the standard deviation of the unconditioned maximum likelihood probabilities of the tags in the training corpus, i.e., we set for all i = 0 ... m — 1, using a tagset of s tags and the average (11) This usually yields values in the range 0,03 ... 0.10.3) We use different estimates for uppercase and lowercase words, i.e., we maintain two different suffix tries depending on the capitalization of the word.This information improves the tagging results.4) Another freedom concerns the choice of the words in the lexicon that should be used for suffix handling.Should we use all words, or are some of them better suited than others?Accepting that unknown words are most probably infrequent, one can argue that using suffixes of infrequent words in the lexicon is a better approximation for unknown words than using suffixes of frequent words.Therefore, we restrict the procedure of suffix handling to words with a frequency smaller than or equal to some threshold value.Empirically, 10 turned out to be a good choice for this threshold.Additional information that turned out to be useful for the disambiguation process for several corpora and tagsets is capitalization information.Tags are usually not informative about capitalization, but probability distributions of tags around capitalized words are different from those not capitalized.The effect is larger for English, which only capitalizes proper names, and smaller for German, which capitalizes all nouns.We use flags ci that are true if wi is a capitalized word and false otherwise.These flags are added to the contextual probability distributions.Instead of and equations (3) to (5) are updated accordingly.This is equivalent to doubling the size of the tagset and using different tags depending on capitalization.The processing time of the Viterbi algorithm (Rabiner, 1989) can be reduced by introducing a beam search.Each state that receives a 6 value smaller than the largest 6 divided by some threshold value 0 is excluded from further processing.While the Viterbi algorithm is guaranteed to find the sequence of states with the highest probability, this is no longer true when beam search is added.Nevertheless, for practical purposes and the right choice of 0, there is virtually no difference between the algorithm with and without a beam.Empirically, a value of 0 = 1000 turned out to approximately double the speed of the tagger without affecting the accuracy.The tagger currently tags between 30,000 and 60,000 tokens per second (including file I/O) on a Pentium 500 running Linux.The speed mainly depends on the percentage of unknown words and on the average ambiguity rate.\n",
            "    We evaluate the tagger's performance under several aspects.First of all, we determine the tagging accuracy averaged over ten iterations.The overall accuracy, as well as separate accuracies for known and unknown words are measured.Second, learning curves are presented, that indicate the performance when using training corpora of different sizes, starting with as few as 1,000 tokens and ranging to the size of the entire corpus (minus the test set).An important characteristic of statistical taggers is that they not only assign tags to words but also probabilities in order to rank different assignments.We distinguish reliable from unreliable assignments by the quotient of the best and second best assignmentsl .All assignments for which this quotient is larger than some threshold are regarded as reliable, the others as unreliable.As we will see below, accuracies for reliable assignments are much higher.The tests are performed on partitions of the corpora that use 90% as training set and 10% as test set, so that the test data is guaranteed to be unseen during training.Each result is obtained by repeating the experiment 10 times with different partitions and averaging the single outcomes.In all experiments, contiguous test sets are used.The alternative is a round-robin procedure that puts every 10th sentence into the test set.We argue that contiguous test sets yield more realistic results because completely unseen articles are tagged.Using the round-robin procedure, parts of an article are already seen, which significantly reduces the percentage of unknown words.Therefore, we expect even 'By definition, this quotient is oo if there is only one possible tag for a given word. higher results when testing on every 10th sentence instead of a contiguous set of 10%.In the following, accuracy denotes the number of correctly assigned tags divided by the number of tokens in the corpus processed.The tagger is allowed to assign exactly one tag to each token.We distinguish the overall accuracy, taking into account all tokens in the test corpus, and separate accuracies for known and unknown tokens.The latter are interesting, since usually unknown tokens are much more difficult to process than known tokens, for which a list of valid tags can be found in the lexicon.The German NEGRA corpus consists of 20,000 sentences (355,000 tokens) of newspaper texts (Frankfurter Rundschau) that are annotated with parts-ofspeech and predicate-argument structures (Skut et al., 1997).It was developed at the Saarland University in Saarbriicken2.Part of it was tagged at the IMS Stuttgart.This evaluation only uses the partof-speech annotation and ignores structural annotations.Tagging accuracies for the NEGRA corpus are shown in table 2.Figure 3 shows the learning curve of the tagger, i.e., the accuracy depending on the amount of training data.Training length is the number of tokens used for training.Each training length was tested ten times, training and test sets were randomly chosen and disjoint, results were averaged.The training length is given on a logarithmic scale.It is remarkable that tagging accuracy for known words is very high even for very small training corpora.This means that we have a good chance of getting the right tag if a word is seen at least once during training.Average percentages of unknown tokens are shown in the bottom line of each diagram.We exploit the fact that the tagger not only determines tags, but also assigns probabilities.If there is an alternative that has a probability &quot;close to&quot; that of the best assignment, this alternative can be viewed as almost equally well suited.The notion of &quot;close to&quot; is expressed by the distance of probabilities, and this in turn is expressed by the quotient of probabilities.So, the distance of the probabilities of a best tag tbest and an alternative tag tau is expressed by p(tbest)/P(talt)7 which is some value greater or equal to 1 since the best tag assignment has the highest probability.Figure 4 shows the accuracy when separating assignments with quotients larger and smaller than the threshold (hence reliable and unreliable assignments).As expected, we find that accuracies for percentage known unknown • overall unknowns acc. acc. acc. a Table 5: Part-of-speech tagging accuracy for the Penn Treebank.The table shows the percentage of unknown tokens, separate accuracies and standard deviations for known and unknown tokens, as well as the overall accuracy. percentage known unknown overall unknowns acc. acc. acc. reliable assignments are much higher than for unreliable assignments.This distinction is, e.g., useful for annotation projects during the cleaning process, or during pre-processing, so the tagger can emit multiple tags if the best tag is classified as unreliable.We use the Wall Street Journal as contained in the Penn Treebank for our experiments.The annotation consists of four parts: 1) a context-free structure augmented with traces to mark movement and discontinuous constituents, 2) phrasal categories that are annotated as node labels, 3) a small set of grammatical functions that are annotated as extensions to the node labels, and 4) part-of-speech tags (Marcus et al., 1993).This evaluation only uses the part-ofspeech annotation.The Wall Street Journal part of the Penn Treebank consists of approx.50,000 sentences (1.2 million tokens).Tagging accuracies for the Penn Treebank are shown in table 5.Figure 6 shows the learning curve of the tagger, i.e., the accuracy depending on the amount of training data.Training length is the number of tokens used for training.Each training length was tested ten times.Training and test sets were disjoint, results are averaged.The training length is given on a logarithmic scale.As for the NEGRA corpus, tagging accuracy is very high for known tokens even with small amounts of training data.We exploit the fact that the tagger not only determines tags, but also assigns probabilities.Figure 7 shows the accuracy when separating assignments with quotients larger and smaller than the threshold (hence reliable and unreliable assignments).Again, we find that accuracies for reliable assignments are much higher than for unreliable assignments.Average part-of-speech tagging accuracy is between 96% and 97%, depending on language and tagset, which is at least on a par with state-of-the-art results found in the literature, possibly better.For the Penn Treebank, (Ratnaparkhi, 1996) reports an accuracy of 96.6% using the Maximum Entropy approach, our much simpler and therefore faster HMM approach delivers 96.7%.This comparison needs to be re-examined, since we use a ten-fold crossvalidation and averaging of results while Ratnaparkhi only makes one test run.The accuracy for known tokens is significantly higher than for unknown tokens.For the German newspaper data, results are 8.7% better when the word was seen before and therefore is in the lexicon, than when it was not seen before (97.7% vs. 89.0%).Accuracy for known tokens is high even with very small amounts of training data.As few as 1000 tokens are sufficient to achieve 95%-96% accuracy for them.It is important for the tagger to have seen a word at least once during training.Stochastic taggers assign probabilities to tags.We exploit the probabilities to determine reliability of assignments.For a subset that is determined during processing by the tagger we achieve accuracy rates of over 99%.The accuracy of the complement set is much lower.This information can, e.g., be exploited in an annotation project to give an additional treatment to the unreliable assignments, or to pass selected ambiguities to a subsequent processing step.\n",
            "    We have shown that a tagger based on Markov models yields state-of-the-art results, despite contrary claims found in the literature.For example, the Markov model tagger used in the comparison of (van Halteren et al., 1998) yielded worse results than all other taggers.In our opinion, a reason for the wrong claim is that the basic algorithms leave several decisions to the implementor.The rather large amount of freedom was not handled in detail in previous publications: handling of start- and end-of-sequence, the exact smoothing technique, how to determine the weights for context probabilities, details on handling unknown words, and how to determine the weights for unknown words.Note that the decisions we made yield good results for both the German and the English Corpus.They do so for several other corpora as well.The architecture remains applicable to a large variety of languages.According to current tagger comparisons (van Halteren et al., 1998; Zavrel and Daelemans, 1999), and according to a comparsion of the results presented here with those in (Ratnaparkhi, 1996), the Maximum Entropy framework seems to be the only other approach yielding comparable results to the one presented here.It is a very interesting future research topic to determine the advantages of either of these approaches, to find the reason for their high accuracies, and to find a good combination of both.TnT is freely available to universities and related organizations for research purposes (see http://www.coli.uni-sb.derthorstenAnt).\n",
            "    Many thanks go to Hans Uszkoreit for his support during the development of TnT.Most of the work on TnT was carried out while the author received a grant of the Deutsche Forschungsgemeinschaft in the Graduiertenkolleg Kognitionswissenschaft Saarbriicken.Large annotated corpora are the pre-requisite for developing and testing part-ofspeech taggers, and they enable the generation of high-quality language models.Therefore, I would like to thank all the people who took the effort to annotate the Penn Treebank, the Susanne Corpus, the Stuttgarter Referenzkorpus, the NEGRA Corpus, the Verbmobil Corpora, and several others.And, last but not least, I would like to thank the users of TnT who provided me with bug reports and valuable suggestions for improvements.\n",
            "<class 'str'>\n"
          ]
        }
      ]
    },
    {
      "cell_type": "markdown",
      "source": [
        "**Reading summary and  article data in same order.**"
      ],
      "metadata": {
        "id": "fielC521v71n"
      }
    },
    {
      "cell_type": "code",
      "source": [
        "summary_path = '/content/drive/MyDrive/M_Tech_Project/Summary_Data_new/'\n",
        "article_path = '/content/drive/MyDrive/M_Tech_Project/Whole_text_data/'\n",
        "summary_xml_files = glob.glob(summary_path+'/*')\n",
        "for i in summary_xml_files:\n",
        "  print(i)\n",
        "  i = i.split(\".\")\n",
        "  i=i[0]+\".\"+i[2]\n",
        "  i = i.split(\"/\")\n",
        "  article_xml_files = glob.glob(article_path+i[-1])\n",
        "  \n",
        "  print(article_xml_files)"
      ],
      "metadata": {
        "id": "E9UYi3rfrYAp"
      },
      "execution_count": null,
      "outputs": []
    },
    {
      "cell_type": "markdown",
      "source": [
        "**Creating DataFrame of summary and whole text**"
      ],
      "metadata": {
        "id": "dbUKY9N5wBq7"
      }
    },
    {
      "cell_type": "code",
      "source": [
        "Scisumm_ds = pd.DataFrame(columns = ['article', 'summary'])\n",
        "l = []\n",
        "\n",
        "\n",
        "summary_path = '/content/drive/MyDrive/M_Tech_Project/Summary_Data_new/'\n",
        "article_path = '/content/drive/MyDrive/M_Tech_Project/Whole_text_data/'\n",
        "summary_xml_files = glob.glob(summary_path+'/*')\n",
        "for i in summary_xml_files:\n",
        "\n",
        "  file1 = open(i,\"r\")\n",
        "  l.append(file1.read())\n",
        "  file1.close()\n",
        "\n",
        "\n",
        "  # print(i)\n",
        "  i = i.split(\".\")\n",
        "  i=i[0]+\".\"+i[2]\n",
        "  i = i.split(\"/\")\n",
        "  article_xml_files = glob.glob(article_path+i[-1])\n",
        "\n",
        "  file2 = open(article_xml_files[0],\"r\")\n",
        "  l.append(file2.read())\n",
        "  file2.close()\n",
        "  \n",
        "  # print(article_xml_files[0])\n",
        "  \n",
        "  Scisumm_ds.loc[len(Scisumm_ds)] = l[::-1]\n",
        "  l=[]\n",
        "\n",
        "Scisumm_ds"
      ],
      "metadata": {
        "colab": {
          "base_uri": "https://localhost:8080/",
          "height": 424
        },
        "id": "9E_CXwVcvPoD",
        "outputId": "eec79c7b-d9ac-4156-b199-74be5c65ac36"
      },
      "execution_count": null,
      "outputs": [
        {
          "output_type": "execute_result",
          "data": {
            "text/plain": [
              "                                               article  \\\n",
              "0    \\n  TnT - A Statistical Part-Of-Speech Tagger\\...   \n",
              "1    \\n  Using Semantic Preferences To Identify Ver...   \n",
              "2    \\n  Termight: Identifying And Translating Tech...   \n",
              "3    \\n  Trainable Methods For Surface Natural Lang...   \n",
              "4    \\n  A Maximum Entropy Approach To Identifying ...   \n",
              "..                                                 ...   \n",
              "983  \\n  Improved Alignment Models For Statistical ...   \n",
              "984  \\n  Detecting Text Similarity Over Short Passa...   \n",
              "985  \\n  Exploiting Diversity In Natural Language P...   \n",
              "986  \\n  Language Independent Named Entity Recognit...   \n",
              "987  \\n  A Simple Approach To Building Ensembles Of...   \n",
              "\n",
              "                                               summary  \n",
              "0    TnT - A Statistical Part-Of-Speech Tagger\\nTri...  \n",
              "1    Using Semantic Preferences To Identify Verbal ...  \n",
              "2    Termight: Identifying And Translating Technica...  \n",
              "3    Trainable Methods For Surface Natural Language...  \n",
              "4    A Maximum Entropy Approach To Identifying Sent...  \n",
              "..                                                 ...  \n",
              "983  Improved Alignment Models For Statistical Mach...  \n",
              "984  Detecting Text Similarity Over Short Passages:...  \n",
              "985  Exploiting Diversity In Natural Language Proce...  \n",
              "986  Language Independent Named Entity Recognition ...  \n",
              "987  A Simple Approach To Building Ensembles Of Nai...  \n",
              "\n",
              "[988 rows x 2 columns]"
            ],
            "text/html": [
              "\n",
              "  <div id=\"df-e6b8c55e-c411-4aec-bb8d-9eba71e8806f\">\n",
              "    <div class=\"colab-df-container\">\n",
              "      <div>\n",
              "<style scoped>\n",
              "    .dataframe tbody tr th:only-of-type {\n",
              "        vertical-align: middle;\n",
              "    }\n",
              "\n",
              "    .dataframe tbody tr th {\n",
              "        vertical-align: top;\n",
              "    }\n",
              "\n",
              "    .dataframe thead th {\n",
              "        text-align: right;\n",
              "    }\n",
              "</style>\n",
              "<table border=\"1\" class=\"dataframe\">\n",
              "  <thead>\n",
              "    <tr style=\"text-align: right;\">\n",
              "      <th></th>\n",
              "      <th>article</th>\n",
              "      <th>summary</th>\n",
              "    </tr>\n",
              "  </thead>\n",
              "  <tbody>\n",
              "    <tr>\n",
              "      <th>0</th>\n",
              "      <td>\\n  TnT - A Statistical Part-Of-Speech Tagger\\...</td>\n",
              "      <td>TnT - A Statistical Part-Of-Speech Tagger\\nTri...</td>\n",
              "    </tr>\n",
              "    <tr>\n",
              "      <th>1</th>\n",
              "      <td>\\n  Using Semantic Preferences To Identify Ver...</td>\n",
              "      <td>Using Semantic Preferences To Identify Verbal ...</td>\n",
              "    </tr>\n",
              "    <tr>\n",
              "      <th>2</th>\n",
              "      <td>\\n  Termight: Identifying And Translating Tech...</td>\n",
              "      <td>Termight: Identifying And Translating Technica...</td>\n",
              "    </tr>\n",
              "    <tr>\n",
              "      <th>3</th>\n",
              "      <td>\\n  Trainable Methods For Surface Natural Lang...</td>\n",
              "      <td>Trainable Methods For Surface Natural Language...</td>\n",
              "    </tr>\n",
              "    <tr>\n",
              "      <th>4</th>\n",
              "      <td>\\n  A Maximum Entropy Approach To Identifying ...</td>\n",
              "      <td>A Maximum Entropy Approach To Identifying Sent...</td>\n",
              "    </tr>\n",
              "    <tr>\n",
              "      <th>...</th>\n",
              "      <td>...</td>\n",
              "      <td>...</td>\n",
              "    </tr>\n",
              "    <tr>\n",
              "      <th>983</th>\n",
              "      <td>\\n  Improved Alignment Models For Statistical ...</td>\n",
              "      <td>Improved Alignment Models For Statistical Mach...</td>\n",
              "    </tr>\n",
              "    <tr>\n",
              "      <th>984</th>\n",
              "      <td>\\n  Detecting Text Similarity Over Short Passa...</td>\n",
              "      <td>Detecting Text Similarity Over Short Passages:...</td>\n",
              "    </tr>\n",
              "    <tr>\n",
              "      <th>985</th>\n",
              "      <td>\\n  Exploiting Diversity In Natural Language P...</td>\n",
              "      <td>Exploiting Diversity In Natural Language Proce...</td>\n",
              "    </tr>\n",
              "    <tr>\n",
              "      <th>986</th>\n",
              "      <td>\\n  Language Independent Named Entity Recognit...</td>\n",
              "      <td>Language Independent Named Entity Recognition ...</td>\n",
              "    </tr>\n",
              "    <tr>\n",
              "      <th>987</th>\n",
              "      <td>\\n  A Simple Approach To Building Ensembles Of...</td>\n",
              "      <td>A Simple Approach To Building Ensembles Of Nai...</td>\n",
              "    </tr>\n",
              "  </tbody>\n",
              "</table>\n",
              "<p>988 rows × 2 columns</p>\n",
              "</div>\n",
              "      <button class=\"colab-df-convert\" onclick=\"convertToInteractive('df-e6b8c55e-c411-4aec-bb8d-9eba71e8806f')\"\n",
              "              title=\"Convert this dataframe to an interactive table.\"\n",
              "              style=\"display:none;\">\n",
              "        \n",
              "  <svg xmlns=\"http://www.w3.org/2000/svg\" height=\"24px\"viewBox=\"0 0 24 24\"\n",
              "       width=\"24px\">\n",
              "    <path d=\"M0 0h24v24H0V0z\" fill=\"none\"/>\n",
              "    <path d=\"M18.56 5.44l.94 2.06.94-2.06 2.06-.94-2.06-.94-.94-2.06-.94 2.06-2.06.94zm-11 1L8.5 8.5l.94-2.06 2.06-.94-2.06-.94L8.5 2.5l-.94 2.06-2.06.94zm10 10l.94 2.06.94-2.06 2.06-.94-2.06-.94-.94-2.06-.94 2.06-2.06.94z\"/><path d=\"M17.41 7.96l-1.37-1.37c-.4-.4-.92-.59-1.43-.59-.52 0-1.04.2-1.43.59L10.3 9.45l-7.72 7.72c-.78.78-.78 2.05 0 2.83L4 21.41c.39.39.9.59 1.41.59.51 0 1.02-.2 1.41-.59l7.78-7.78 2.81-2.81c.8-.78.8-2.07 0-2.86zM5.41 20L4 18.59l7.72-7.72 1.47 1.35L5.41 20z\"/>\n",
              "  </svg>\n",
              "      </button>\n",
              "      \n",
              "  <style>\n",
              "    .colab-df-container {\n",
              "      display:flex;\n",
              "      flex-wrap:wrap;\n",
              "      gap: 12px;\n",
              "    }\n",
              "\n",
              "    .colab-df-convert {\n",
              "      background-color: #E8F0FE;\n",
              "      border: none;\n",
              "      border-radius: 50%;\n",
              "      cursor: pointer;\n",
              "      display: none;\n",
              "      fill: #1967D2;\n",
              "      height: 32px;\n",
              "      padding: 0 0 0 0;\n",
              "      width: 32px;\n",
              "    }\n",
              "\n",
              "    .colab-df-convert:hover {\n",
              "      background-color: #E2EBFA;\n",
              "      box-shadow: 0px 1px 2px rgba(60, 64, 67, 0.3), 0px 1px 3px 1px rgba(60, 64, 67, 0.15);\n",
              "      fill: #174EA6;\n",
              "    }\n",
              "\n",
              "    [theme=dark] .colab-df-convert {\n",
              "      background-color: #3B4455;\n",
              "      fill: #D2E3FC;\n",
              "    }\n",
              "\n",
              "    [theme=dark] .colab-df-convert:hover {\n",
              "      background-color: #434B5C;\n",
              "      box-shadow: 0px 1px 3px 1px rgba(0, 0, 0, 0.15);\n",
              "      filter: drop-shadow(0px 1px 2px rgba(0, 0, 0, 0.3));\n",
              "      fill: #FFFFFF;\n",
              "    }\n",
              "  </style>\n",
              "\n",
              "      <script>\n",
              "        const buttonEl =\n",
              "          document.querySelector('#df-e6b8c55e-c411-4aec-bb8d-9eba71e8806f button.colab-df-convert');\n",
              "        buttonEl.style.display =\n",
              "          google.colab.kernel.accessAllowed ? 'block' : 'none';\n",
              "\n",
              "        async function convertToInteractive(key) {\n",
              "          const element = document.querySelector('#df-e6b8c55e-c411-4aec-bb8d-9eba71e8806f');\n",
              "          const dataTable =\n",
              "            await google.colab.kernel.invokeFunction('convertToInteractive',\n",
              "                                                     [key], {});\n",
              "          if (!dataTable) return;\n",
              "\n",
              "          const docLinkHtml = 'Like what you see? Visit the ' +\n",
              "            '<a target=\"_blank\" href=https://colab.research.google.com/notebooks/data_table.ipynb>data table notebook</a>'\n",
              "            + ' to learn more about interactive tables.';\n",
              "          element.innerHTML = '';\n",
              "          dataTable['output_type'] = 'display_data';\n",
              "          await google.colab.output.renderOutput(dataTable, element);\n",
              "          const docLink = document.createElement('div');\n",
              "          docLink.innerHTML = docLinkHtml;\n",
              "          element.appendChild(docLink);\n",
              "        }\n",
              "      </script>\n",
              "    </div>\n",
              "  </div>\n",
              "  "
            ]
          },
          "metadata": {},
          "execution_count": 12
        }
      ]
    },
    {
      "cell_type": "code",
      "source": [
        "Scisumm_ds[\"summary\"] = Scisumm_ds.summary.apply(lambda x: \"\".join(x.split(\"\\n\")) )\n",
        "Scisumm_ds[\"article\"] = Scisumm_ds.article.apply(lambda x: \"\".join(x.split(\"\\n\")) )"
      ],
      "metadata": {
        "id": "M-XTgyIL7_x3"
      },
      "execution_count": null,
      "outputs": []
    },
    {
      "cell_type": "code",
      "source": [
        "(Scisumm_ds['article'][:2][1])"
      ],
      "metadata": {
        "colab": {
          "base_uri": "https://localhost:8080/"
        },
        "id": "SRmWaRFL1CXC",
        "outputId": "0772ec40-9be4-4c96-a9a5-e28d1280d9e6"
      },
      "execution_count": null,
      "outputs": [
        {
          "output_type": "execute_result",
          "data": {
            "text/plain": [
              "25322"
            ]
          },
          "metadata": {},
          "execution_count": 19
        }
      ]
    },
    {
      "cell_type": "code",
      "source": [
        "(Scisumm_ds['summary'][:10][9])"
      ],
      "metadata": {
        "colab": {
          "base_uri": "https://localhost:8080/"
        },
        "id": "SGjfvi4S1ZQ2",
        "outputId": "4efca833-b0a6-47d2-b4e9-b3efb0c55ed3"
      },
      "execution_count": null,
      "outputs": [
        {
          "output_type": "execute_result",
          "data": {
            "text/plain": [
              "2719"
            ]
          },
          "metadata": {},
          "execution_count": 18
        }
      ]
    },
    {
      "cell_type": "code",
      "source": [
        "# cnn_df = pd.DataFrame(cnn_ds)\n",
        "# cnn_df.highlights = cnn_df.highlights.apply(lambda x: x.decode('utf-8')) \n",
        "# cnn_df[\"summary\"] = cnn_df.highlights.apply(lambda x: \"\".join(x.split(\"\\n\")) ) \n",
        "# cnn_df.article = cnn_df.article.apply(lambda x: x.decode('utf-8')) \n",
        "# cnn_df[\"art_sents\"] = cnn_df.article.apply(lambda x: len([x for x in nlp(x).sents])) \n",
        "# cnn_df"
      ],
      "metadata": {
        "id": "TKbxzdGamBe6"
      },
      "execution_count": null,
      "outputs": []
    },
    {
      "cell_type": "markdown",
      "source": [
        "**Scisummnet Dataset**"
      ],
      "metadata": {
        "id": "jzoLFFG5GKj5"
      }
    },
    {
      "cell_type": "code",
      "source": [
        "X_train, X_test = train_test_split(Scisumm_ds, test_size=0.2)\n",
        "\n",
        "# test_df =  pd.DataFrame(tfds.as_numpy(tfds.load( 'cnn_dailymail', split='test', batch_size=-1)))\n",
        "# train_df = pd.DataFrame(tfds.as_numpy(tfds.load( 'cnn_dailymail', split='train', batch_size=-1)))\n",
        "\n",
        "# test_df.highlights = test_df.highlights.apply(lambda x: x.decode('utf-8')) \n",
        "# train_df.highlights = train_df.highlights.apply(lambda x: x.decode('utf-8')) \n",
        "\n",
        "# test_df.article = test_df.article.apply(lambda x: x.decode('utf-8')) \n",
        "# train_df.article = train_df.article.apply(lambda x: x.decode('utf-8')) \n",
        "\n",
        "X_train.shape, X_test.shape"
      ],
      "metadata": {
        "colab": {
          "base_uri": "https://localhost:8080/"
        },
        "id": "A_2e7SB7mBiQ",
        "outputId": "fc9f672a-77f5-4f46-f3f3-b8dde870d227"
      },
      "execution_count": null,
      "outputs": [
        {
          "output_type": "execute_result",
          "data": {
            "text/plain": [
              "((790, 2), (198, 2))"
            ]
          },
          "metadata": {},
          "execution_count": 20
        }
      ]
    },
    {
      "cell_type": "code",
      "source": [
        "X_train[:5]"
      ],
      "metadata": {
        "colab": {
          "base_uri": "https://localhost:8080/",
          "height": 206
        },
        "id": "kKM9PVBEAoib",
        "outputId": "3dcc709b-8dee-4a0f-d7fa-fa008e3180d4"
      },
      "execution_count": null,
      "outputs": [
        {
          "output_type": "execute_result",
          "data": {
            "text/plain": [
              "                                               article  \\\n",
              "391    Parser Combination By Reparsing    We presen...   \n",
              "415    Unsupervised Modeling of Twitter Conversatio...   \n",
              "30     Effects of Adjective Orientation and Gradabi...   \n",
              "825    An Evaluation Exercise For Word Alignment   ...   \n",
              "428    Exploring Content Models for Multi-Document ...   \n",
              "\n",
              "                                               summary  \n",
              "391  Parser Combination By ReparsingWe present a no...  \n",
              "415  Unsupervised Modeling of Twitter Conversations...  \n",
              "30   Effects Of Adjective Orientation And Gradabili...  \n",
              "825  An Evaluation Exercise For Word AlignmentThis ...  \n",
              "428  Exploring Content Models for Multi-Document Su...  "
            ],
            "text/html": [
              "\n",
              "  <div id=\"df-8efd2e09-3eb9-44e4-bd59-ef92ad05414d\">\n",
              "    <div class=\"colab-df-container\">\n",
              "      <div>\n",
              "<style scoped>\n",
              "    .dataframe tbody tr th:only-of-type {\n",
              "        vertical-align: middle;\n",
              "    }\n",
              "\n",
              "    .dataframe tbody tr th {\n",
              "        vertical-align: top;\n",
              "    }\n",
              "\n",
              "    .dataframe thead th {\n",
              "        text-align: right;\n",
              "    }\n",
              "</style>\n",
              "<table border=\"1\" class=\"dataframe\">\n",
              "  <thead>\n",
              "    <tr style=\"text-align: right;\">\n",
              "      <th></th>\n",
              "      <th>article</th>\n",
              "      <th>summary</th>\n",
              "    </tr>\n",
              "  </thead>\n",
              "  <tbody>\n",
              "    <tr>\n",
              "      <th>391</th>\n",
              "      <td>Parser Combination By Reparsing    We presen...</td>\n",
              "      <td>Parser Combination By ReparsingWe present a no...</td>\n",
              "    </tr>\n",
              "    <tr>\n",
              "      <th>415</th>\n",
              "      <td>Unsupervised Modeling of Twitter Conversatio...</td>\n",
              "      <td>Unsupervised Modeling of Twitter Conversations...</td>\n",
              "    </tr>\n",
              "    <tr>\n",
              "      <th>30</th>\n",
              "      <td>Effects of Adjective Orientation and Gradabi...</td>\n",
              "      <td>Effects Of Adjective Orientation And Gradabili...</td>\n",
              "    </tr>\n",
              "    <tr>\n",
              "      <th>825</th>\n",
              "      <td>An Evaluation Exercise For Word Alignment   ...</td>\n",
              "      <td>An Evaluation Exercise For Word AlignmentThis ...</td>\n",
              "    </tr>\n",
              "    <tr>\n",
              "      <th>428</th>\n",
              "      <td>Exploring Content Models for Multi-Document ...</td>\n",
              "      <td>Exploring Content Models for Multi-Document Su...</td>\n",
              "    </tr>\n",
              "  </tbody>\n",
              "</table>\n",
              "</div>\n",
              "      <button class=\"colab-df-convert\" onclick=\"convertToInteractive('df-8efd2e09-3eb9-44e4-bd59-ef92ad05414d')\"\n",
              "              title=\"Convert this dataframe to an interactive table.\"\n",
              "              style=\"display:none;\">\n",
              "        \n",
              "  <svg xmlns=\"http://www.w3.org/2000/svg\" height=\"24px\"viewBox=\"0 0 24 24\"\n",
              "       width=\"24px\">\n",
              "    <path d=\"M0 0h24v24H0V0z\" fill=\"none\"/>\n",
              "    <path d=\"M18.56 5.44l.94 2.06.94-2.06 2.06-.94-2.06-.94-.94-2.06-.94 2.06-2.06.94zm-11 1L8.5 8.5l.94-2.06 2.06-.94-2.06-.94L8.5 2.5l-.94 2.06-2.06.94zm10 10l.94 2.06.94-2.06 2.06-.94-2.06-.94-.94-2.06-.94 2.06-2.06.94z\"/><path d=\"M17.41 7.96l-1.37-1.37c-.4-.4-.92-.59-1.43-.59-.52 0-1.04.2-1.43.59L10.3 9.45l-7.72 7.72c-.78.78-.78 2.05 0 2.83L4 21.41c.39.39.9.59 1.41.59.51 0 1.02-.2 1.41-.59l7.78-7.78 2.81-2.81c.8-.78.8-2.07 0-2.86zM5.41 20L4 18.59l7.72-7.72 1.47 1.35L5.41 20z\"/>\n",
              "  </svg>\n",
              "      </button>\n",
              "      \n",
              "  <style>\n",
              "    .colab-df-container {\n",
              "      display:flex;\n",
              "      flex-wrap:wrap;\n",
              "      gap: 12px;\n",
              "    }\n",
              "\n",
              "    .colab-df-convert {\n",
              "      background-color: #E8F0FE;\n",
              "      border: none;\n",
              "      border-radius: 50%;\n",
              "      cursor: pointer;\n",
              "      display: none;\n",
              "      fill: #1967D2;\n",
              "      height: 32px;\n",
              "      padding: 0 0 0 0;\n",
              "      width: 32px;\n",
              "    }\n",
              "\n",
              "    .colab-df-convert:hover {\n",
              "      background-color: #E2EBFA;\n",
              "      box-shadow: 0px 1px 2px rgba(60, 64, 67, 0.3), 0px 1px 3px 1px rgba(60, 64, 67, 0.15);\n",
              "      fill: #174EA6;\n",
              "    }\n",
              "\n",
              "    [theme=dark] .colab-df-convert {\n",
              "      background-color: #3B4455;\n",
              "      fill: #D2E3FC;\n",
              "    }\n",
              "\n",
              "    [theme=dark] .colab-df-convert:hover {\n",
              "      background-color: #434B5C;\n",
              "      box-shadow: 0px 1px 3px 1px rgba(0, 0, 0, 0.15);\n",
              "      filter: drop-shadow(0px 1px 2px rgba(0, 0, 0, 0.3));\n",
              "      fill: #FFFFFF;\n",
              "    }\n",
              "  </style>\n",
              "\n",
              "      <script>\n",
              "        const buttonEl =\n",
              "          document.querySelector('#df-8efd2e09-3eb9-44e4-bd59-ef92ad05414d button.colab-df-convert');\n",
              "        buttonEl.style.display =\n",
              "          google.colab.kernel.accessAllowed ? 'block' : 'none';\n",
              "\n",
              "        async function convertToInteractive(key) {\n",
              "          const element = document.querySelector('#df-8efd2e09-3eb9-44e4-bd59-ef92ad05414d');\n",
              "          const dataTable =\n",
              "            await google.colab.kernel.invokeFunction('convertToInteractive',\n",
              "                                                     [key], {});\n",
              "          if (!dataTable) return;\n",
              "\n",
              "          const docLinkHtml = 'Like what you see? Visit the ' +\n",
              "            '<a target=\"_blank\" href=https://colab.research.google.com/notebooks/data_table.ipynb>data table notebook</a>'\n",
              "            + ' to learn more about interactive tables.';\n",
              "          element.innerHTML = '';\n",
              "          dataTable['output_type'] = 'display_data';\n",
              "          await google.colab.output.renderOutput(dataTable, element);\n",
              "          const docLink = document.createElement('div');\n",
              "          docLink.innerHTML = docLinkHtml;\n",
              "          element.appendChild(docLink);\n",
              "        }\n",
              "      </script>\n",
              "    </div>\n",
              "  </div>\n",
              "  "
            ]
          },
          "metadata": {},
          "execution_count": 21
        }
      ]
    },
    {
      "cell_type": "code",
      "source": [
        "art_lengths = [ len(x) for x in Scisumm_ds.article] \n",
        "plt.hist(art_lengths);\n",
        "plt.title(\"Histogram of Article Lengths. Mean = \" + str(round(sum(art_lengths)/ len(art_lengths),1)) + \" words\" );"
      ],
      "metadata": {
        "colab": {
          "base_uri": "https://localhost:8080/",
          "height": 281
        },
        "id": "dtIFhXL3Glg3",
        "outputId": "c80f993b-d4b6-4b04-d810-985e9f1c542e"
      },
      "execution_count": null,
      "outputs": [
        {
          "output_type": "display_data",
          "data": {
            "text/plain": [
              "<Figure size 432x288 with 1 Axes>"
            ],
            "image/png": "[encoded data removed]"
          },
          "metadata": {
            "needs_background": "light"
          }
        }
      ]
    },
    {
      "cell_type": "code",
      "source": [
        "sum_lengths = [ len(x) for x in Scisumm_ds.summary] \n",
        "plt.hist(sum_lengths);\n",
        "plt.title(\"Histogram of Summary Lengths. Mean = \" + str(round(sum(sum_lengths)/ len(sum_lengths),1)) + \" words\" );"
      ],
      "metadata": {
        "colab": {
          "base_uri": "https://localhost:8080/",
          "height": 281
        },
        "id": "0XQEGNzyGlln",
        "outputId": "addb77a0-3988-4599-f3dd-025317ebcd15"
      },
      "execution_count": null,
      "outputs": [
        {
          "output_type": "display_data",
          "data": {
            "text/plain": [
              "<Figure size 432x288 with 1 Axes>"
            ],
            "image/png": "[encoded data removed]"
          },
          "metadata": {
            "needs_background": "light"
          }
        }
      ]
    },
    {
      "cell_type": "code",
      "source": [
        "os.makedirs(\"data/\", exist_ok=True) \n",
        "os.makedirs(\"data/test\", exist_ok=True) \n",
        "os.makedirs(\"data/train\", exist_ok=True) \n",
        "\n",
        "X_train.to_json(\"data/train/my_train.json\")\n",
        "X_test.to_json(\"data/test/my_test.json\")"
      ],
      "metadata": {
        "id": "iCw4t-DYmBkI"
      },
      "execution_count": null,
      "outputs": []
    },
    {
      "cell_type": "code",
      "source": [
        "def get_dicts(df, folder=\"test\"):   \n",
        "  sents_dict = {}\n",
        "  doc_dict = { i: {\"article\": df.article[i], \"summary\": df.summary[i]} for i in df.index }\n",
        "  raw_docs = [ doc_dict[k][\"article\"] for k in doc_dict.keys()]\n",
        "\n",
        "  doc_sents = {}\n",
        "  sents_list = []\n",
        "  raw_sents = [] \n",
        "  i = 0\n",
        "  min_sent_length = 14\n",
        "  for k in tqdm(doc_dict.keys()):\n",
        "    article = doc_dict[k][\"article\"]  \n",
        "    summary = doc_dict[k][\"summary\"] \n",
        "    sents = nlp(article).sents\n",
        "    doc_sent_ids = [] \n",
        "    for sent in sents:\n",
        "      if (len(sent)) > min_sent_length:\n",
        "        sents_dict[i] = {\"docid\":k, \"text\": str(sent)} \n",
        "        sents_list.append({\"sentid\":i, \"docid\":k, \"text\": str(sent) }) \n",
        "        raw_sents.append(str(sent))\n",
        "        i += 1  \n",
        "         \n",
        "  return doc_dict, sents_list\n",
        "\n",
        "test_doc_dict, test_sents_list = get_dicts(X_test)\n",
        "train_doc_dict, train_sents_list = get_dicts(X_train)"
      ],
      "metadata": {
        "colab": {
          "base_uri": "https://localhost:8080/",
          "height": 81,
          "referenced_widgets": [
            "6125b3885128410698f249142100e138",
            "2400d7674f4e47a58edcb7f6752d174b",
            "483430c9ed92472fa67b0064f5898f3f",
            "e0e01b0d7ba24b6d96a33a9086bf828c",
            "8c9cb34e9a814f0ab71539ac97d31345",
            "0f7f3fbda94d4b3e861723428b6179ba",
            "1f79443f5f0c45a2bdd300c9798e7671",
            "3c96b3012e374b03a2787dd864f085a9",
            "d2885eb28db1411aac5b8d0b86a8be16",
            "416f140385af4a88ad2af3b6b887054a",
            "705f3fcd9de7435cb09fcfcb7467ecb5",
            "86b5b33149554db9bb204a5d5cb43494",
            "3a3410437647487a88468f5d3e0714d9",
            "b47e0b74dc664defa2b8d03247d10c7d",
            "71684933cae0445bb6a41c253579a486",
            "2e80359e8b0a446c8b9248d39fa66611",
            "660bede7cb874ffe89a7eef3293970f1",
            "e01a9eee70cf44bf9d45619e77516a36",
            "84ba3b1f9e2d457c9b92b97b5cdeab58",
            "6d91c5c823cb4555aa97d124ba567771",
            "4c2a0f0123444ae4ab4946f5dd7c7c52",
            "d725ef010e53444880f2d370021da074"
          ]
        },
        "id": "vix-Nt_cmBnF",
        "outputId": "a4742fa8-4996-4b21-f6c0-c7c4b7b8f3c2"
      },
      "execution_count": null,
      "outputs": [
        {
          "output_type": "display_data",
          "data": {
            "text/plain": [
              "  0%|          | 0/198 [00:00<?, ?it/s]"
            ],
            "application/vnd.jupyter.widget-view+json": {
              "version_major": 2,
              "version_minor": 0,
              "model_id": "6125b3885128410698f249142100e138"
            }
          },
          "metadata": {}
        },
        {
          "output_type": "display_data",
          "data": {
            "text/plain": [
              "  0%|          | 0/790 [00:00<?, ?it/s]"
            ],
            "application/vnd.jupyter.widget-view+json": {
              "version_major": 2,
              "version_minor": 0,
              "model_id": "86b5b33149554db9bb204a5d5cb43494"
            }
          },
          "metadata": {}
        }
      ]
    },
    {
      "cell_type": "code",
      "source": [
        "from rouge_score import rouge_scorer \n",
        "scorer = rouge_scorer.RougeScorer(['rouge1', 'rougeL'], use_stemmer=True)\n",
        "\n",
        "def get_rougue_score(text, summary, metric=\"rougeL\"):\n",
        "  max_score = 0\n",
        "  for h_text in summary:\n",
        "    score =  scorer.score(text, h_text)[metric].fmeasure\n",
        "    # print(score, text, \"\\n \\t\" , h_text)\n",
        "    if score > max_score:\n",
        "      max_score = score \n",
        "  return max_score \n",
        "\n",
        "\n",
        "def get_label(sent, doc_dict,  score_threshold = 0.55):\n",
        "  sent_id, doc_id, sentence = sent[\"sentid\"], sent[\"docid\"], sent[\"text\"]  \n",
        "  summary = doc_dict[doc_id][\"summary\"].split(\"\\n\")\n",
        "  doc = doc_dict[doc_id][\"article\"]\n",
        "\n",
        "  label_score = get_rougue_score(sentence, summary) \n",
        "  # Normalize label to 0/1 based on rogue score threshold\n",
        "  label_score = 0 if label_score < score_threshold else 1 \n",
        "  return (sentence, doc, label_score)\n",
        "  \n",
        "def sub_sample(sents_batch, doc_dict, neg_multiplier=2):\n",
        "  # get labels \n",
        "  vals = [get_label(x, doc_dict)  for x in sents_batch] \n",
        "\n",
        "  # construct arrays of sentences, corresponding documents and labels  \n",
        "  sents, docs, y = [], [], [] \n",
        "  for row in vals:\n",
        "    sents.append(row[0])\n",
        "    docs.append(row[1])\n",
        "    y.append(row[2])\n",
        "   \n",
        "\n",
        "  # get balanced number of positive and negative\n",
        "  sub_df = pd.DataFrame.from_dict({\"sents\":sents, \"docs\":docs, \"y\":y}) \n",
        "  pos_df = sub_df[sub_df.y == 1]\n",
        "  neg_df = sub_df[sub_df.y == 0]\n",
        "\n",
        "  print(\"Negative sample size:\", len(neg_df))\n",
        "  print(\"Positive sample size:\", len(pos_df))\n",
        "\n",
        "  sub_neg_df = neg_df.sample(len(pos_df)*neg_multiplier) \n",
        "  balanced_df = pos_df.append(sub_neg_df)\n",
        "  \n",
        "  return balanced_df\n"
      ],
      "metadata": {
        "id": "0ni4sGXHmBpJ"
      },
      "execution_count": null,
      "outputs": []
    },
    {
      "cell_type": "code",
      "source": [
        "train_bdf = sub_sample(train_sents_list, train_doc_dict)\n",
        "test_bdf = sub_sample(test_sents_list, test_doc_dict)\n",
        "\n",
        "train_bdf.to_json(\"data/train_bdf.json\")\n",
        "test_bdf.to_json(\"data/test_bdf.json\")\n",
        "\n",
        "!gsutil cp -r data $sum_dir"
      ],
      "metadata": {
        "colab": {
          "base_uri": "https://localhost:8080/"
        },
        "id": "eyLnco2SmBsD",
        "outputId": "e4c26eb3-f682-4227-d77f-34a077f5d53e"
      },
      "execution_count": null,
      "outputs": [
        {
          "output_type": "stream",
          "name": "stdout",
          "text": [
            "Negative sample size: 110269\n",
            "Positive sample size: 88\n",
            "Negative sample size: 28225\n",
            "Positive sample size: 19\n",
            "CommandException: Wrong number of arguments for \"cp\" command.\n"
          ]
        }
      ]
    },
    {
      "cell_type": "code",
      "source": [
        "#define a directory to save data \n",
        "sum_dir = \"/content/drive/MyDrive/M_Tech_Project/extractivesummarization\"\n",
        "!gsutil cp -r data $sum_dir "
      ],
      "metadata": {
        "colab": {
          "base_uri": "https://localhost:8080/"
        },
        "id": "JPyQ6ifImBt1",
        "outputId": "785231cf-ac4f-4f87-b421-fbb3879f6329"
      },
      "execution_count": null,
      "outputs": [
        {
          "output_type": "stream",
          "name": "stdout",
          "text": [
            "Copying file://data/train_bdf.json...\n",
            "/ [0 files][    0.0 B/  8.5 MiB]                                                \r/ [1 files][  8.5 MiB/  8.5 MiB]                                                \rCopying file://data/test_bdf.json...\n",
            "/ [1 files][  8.5 MiB/ 10.4 MiB]                                                \r/ [2 files][ 10.4 MiB/ 10.4 MiB]                                                \rCopying file://data/train/my_train.json...\n",
            "Copying file://data/test/my_test.json...\n",
            "/ [4 files][ 39.0 MiB/ 39.0 MiB]                                                \n",
            "Operation completed over 4 objects/39.0 MiB.                                     \n"
          ]
        }
      ]
    },
    {
      "cell_type": "code",
      "source": [],
      "metadata": {
        "id": "ery0LSKBmB8N"
      },
      "execution_count": null,
      "outputs": []
    }
  ]
}